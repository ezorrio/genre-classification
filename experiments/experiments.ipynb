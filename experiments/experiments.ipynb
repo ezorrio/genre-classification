{
 "cells": [
  {
   "cell_type": "code",
   "execution_count": null,
   "metadata": {
    "collapsed": true
   },
   "outputs": [],
   "source": []
  },
  {
   "cell_type": "code",
   "execution_count": null,
   "outputs": [],
   "source": [
    "from MusicSearch import *"
   ],
   "metadata": {
    "collapsed": false,
    "pycharm": {
     "name": "#%%\n"
    }
   }
  },
  {
   "cell_type": "code",
   "execution_count": null,
   "outputs": [],
   "source": [
    "\"\"\" Phase-1: Training data vs. validation set \"\"\"\n",
    "def training_vs_validation(number_of_hashtables, hash_length, subset, feature_fields, measure, k, magic_number):\n",
    "    search = MusicSearch(\"metadata/\", number_of_hashtables, hash_length, subset, feature_fields, measure, k, magic_number)\n",
    "\n",
    "    print('begin training')\n",
    "    search.train()\n",
    "    print('training done')\n",
    "\n",
    "    print('-----------------------------------------')\n",
    "    print('Genre classification for training and validation data:\\n')\n",
    "\n",
    "    search.test_with_validation()"
   ],
   "metadata": {
    "collapsed": false,
    "pycharm": {
     "name": "#%%\n"
    }
   }
  },
  {
   "cell_type": "code",
   "execution_count": null,
   "outputs": [],
   "source": [
    "\"\"\" Phase-2: Training data & validation set vs. test data \"\"\"\n",
    "def training_and_validation_vs_test(number_of_hashtables, hash_length, subset, feature_fields, measure, k, magic_number):\n",
    "    search = MusicSearch(\"metadata/\", number_of_hashtables, hash_length, subset, feature_fields, measure, k, magic_number)\n",
    "\n",
    "    search.train_with_validation()\n",
    "\n",
    "    print('-----------------------------------------')\n",
    "    print('Genre classification for training and validation data combined'\n",
    "          ' vs. test data\\n')\n",
    "\n",
    "    search.test()"
   ],
   "metadata": {
    "collapsed": false,
    "pycharm": {
     "name": "#%%\n"
    }
   }
  },
  {
   "cell_type": "code",
   "execution_count": 7,
   "outputs": [],
   "source": [
    "# Hyperparameters\n",
    "number_of_hashtable_container = [3, 7, 11]\n",
    "hash_length_container = [8, 12, 16]\n",
    "k_nearest_neighbors_container = [3, 5, 7]\n",
    "distance_container = [\"cosine\", \"eucledian\"]\n",
    "subset_container = [\"small\", \"medium\"]\n",
    "features_container = [[\"mfcc\"], [\"chroma_cens\"], [\"tonnetz\"], ['spectral_contrast', 'spectral_centroid','spectral_bandwidth', 'spectral_rolloff'], ['rmse'], ['zcr'],\n",
    "            [\"mfcc\",\"chroma_cens\", \"tonnetz\",'spectral_contrast', 'spectral_centroid','spectral_bandwidth', 'spectral_rolloff', 'rmse', 'zcr']]\n",
    "magic_number_chris_container = [420 ,800, 1000]"
   ],
   "metadata": {
    "collapsed": false,
    "pycharm": {
     "name": "#%%\n"
    }
   }
  },
  {
   "cell_type": "code",
   "execution_count": 10,
   "outputs": [
    {
     "name": "stdout",
     "output_type": "stream",
     "text": [
      "Estimated runtime: 63.0 hours\n"
     ]
    }
   ],
   "source": [
    "average_experiment_time_mins = 5\n",
    "print(f\"Estimated runtime: {len(number_of_hashtable_container) * len(hash_length_container) * len(distance_container) * len(subset_container) * len(features_container) * len(magic_number_chris_container) * average_experiment_time_mins / 60} hours\")"
   ],
   "metadata": {
    "collapsed": false,
    "pycharm": {
     "name": "#%%\n"
    }
   }
  },
  {
   "cell_type": "code",
   "execution_count": null,
   "outputs": [],
   "source": [
    "for number_of_hashtable in number_of_hashtable_container:\n",
    "    for hash_length in hash_length_container:\n",
    "        for k_nearest_neighbors in k_nearest_neighbors_container:\n",
    "            for distance in distance_container:\n",
    "                for subset in subset_container:\n",
    "                    for features in features_container:\n",
    "                        for magic_number_chris in magic_number_chris_container:\n",
    "                            training_vs_validation(number_of_hashtable, hash_length, subset, features, distance, k_nearest_neighbors, magic_number_chris)"
   ],
   "metadata": {
    "collapsed": false,
    "pycharm": {
     "name": "#%%\n"
    }
   }
  }
 ],
 "metadata": {
  "kernelspec": {
   "display_name": "Python 3",
   "language": "python",
   "name": "python3"
  },
  "language_info": {
   "codemirror_mode": {
    "name": "ipython",
    "version": 2
   },
   "file_extension": ".py",
   "mimetype": "text/x-python",
   "name": "python",
   "nbconvert_exporter": "python",
   "pygments_lexer": "ipython2",
   "version": "2.7.6"
  }
 },
 "nbformat": 4,
 "nbformat_minor": 0
}