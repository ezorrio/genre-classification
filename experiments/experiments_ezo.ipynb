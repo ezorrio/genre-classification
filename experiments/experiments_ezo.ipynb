{
 "cells": [
  {
   "cell_type": "code",
   "execution_count": 15,
   "outputs": [],
   "source": [
    "from MusicSearch import *\n",
    "import sys"
   ],
   "metadata": {
    "collapsed": false,
    "pycharm": {
     "name": "#%%\n"
    }
   }
  },
  {
   "cell_type": "code",
   "execution_count": 16,
   "outputs": [],
   "source": [
    "\"\"\" Phase-1: Training data vs. validation set \"\"\"\n",
    "def training_vs_validation(number_of_hashtables, hash_length, subset, feature_fields, measure, k, magic_number):\n",
    "    search = MusicSearch(\"../metadata/\", number_of_hashtables, hash_length, subset, feature_fields, measure, k, magic_number)\n",
    "\n",
    "    print('begin training')\n",
    "    search.train()\n",
    "    print('training done')\n",
    "\n",
    "    print('-----------------------------------------')\n",
    "    print('Genre classification for training and validation data:\\n')\n",
    "\n",
    "    search.test_with_validation()"
   ],
   "metadata": {
    "collapsed": false,
    "pycharm": {
     "name": "#%%\n"
    }
   }
  },
  {
   "cell_type": "code",
   "execution_count": 17,
   "outputs": [],
   "source": [
    "\"\"\" Phase-2: Training data & validation set vs. test data \"\"\"\n",
    "def training_and_validation_vs_test(number_of_hashtables, hash_length, subset, feature_fields, measure, k, magic_number):\n",
    "    search = MusicSearch(\"../metadata/\", number_of_hashtables, hash_length, subset, feature_fields, measure, k, magic_number)\n",
    "\n",
    "    search.train_with_validation()\n",
    "\n",
    "    print('-----------------------------------------')\n",
    "    print('Genre classification for training and validation data combined'\n",
    "          ' vs. test data\\n')\n",
    "\n",
    "    search.test()"
   ],
   "metadata": {
    "collapsed": false,
    "pycharm": {
     "name": "#%%\n"
    }
   }
  },
  {
   "cell_type": "code",
   "execution_count": 18,
   "outputs": [
    {
     "name": "stdout",
     "output_type": "stream",
     "text": [
      "begin training\n"
     ]
    },
    {
     "name": "stderr",
     "output_type": "stream",
     "text": [
      "  0%|          | 0/800 [00:00<?, ?it/s]"
     ]
    },
    {
     "name": "stdout",
     "output_type": "stream",
     "text": [
      "training done\n",
      "-----------------------------------------\n",
      "Genre classification for training and validation data:\n",
      "\n"
     ]
    },
    {
     "name": "stderr",
     "output_type": "stream",
     "text": [
      "100%|██████████| 800/800 [06:07<00:00,  2.18it/s]"
     ]
    },
    {
     "name": "stdout",
     "output_type": "stream",
     "text": [
      "Classification Accuracy per genre:\n",
      "\n",
      "Rock: 67%\n",
      "Folk: 64%\n",
      "International: 41%\n",
      "Hip-Hop: 60%\n",
      "Pop: 12%\n",
      "Electronic: 44%\n",
      "Experimental: 22%\n",
      "Instrumental: 30%\n",
      "-----------------------------------------\n",
      "Overall classification accuracy: 42.5%\n"
     ]
    },
    {
     "name": "stderr",
     "output_type": "stream",
     "text": [
      "\n"
     ]
    }
   ],
   "source": [
    "#starting point. best found so far by automatic execution\n",
    "training_vs_validation(20, 16, \"small\", [\"mfcc\"], \"Cosine\", 7, 1500)"
   ],
   "metadata": {
    "collapsed": false,
    "pycharm": {
     "name": "#%%\n"
    }
   }
  },
  {
   "cell_type": "code",
   "execution_count": 19,
   "outputs": [
    {
     "name": "stdout",
     "output_type": "stream",
     "text": [
      "begin training\n"
     ]
    },
    {
     "name": "stderr",
     "output_type": "stream",
     "text": [
      "  0%|          | 0/800 [00:00<?, ?it/s]"
     ]
    },
    {
     "name": "stdout",
     "output_type": "stream",
     "text": [
      "training done\n",
      "-----------------------------------------\n",
      "Genre classification for training and validation data:\n",
      "\n"
     ]
    },
    {
     "name": "stderr",
     "output_type": "stream",
     "text": [
      "100%|██████████| 800/800 [05:06<00:00,  2.61it/s]"
     ]
    },
    {
     "name": "stdout",
     "output_type": "stream",
     "text": [
      "Classification Accuracy per genre:\n",
      "\n",
      "Rock: 65%\n",
      "Folk: 70%\n",
      "International: 39%\n",
      "Hip-Hop: 68%\n",
      "Electronic: 42%\n",
      "Experimental: 14%\n",
      "Instrumental: 34%\n",
      "Pop: 13%\n",
      "-----------------------------------------\n",
      "Overall classification accuracy: 43.125%\n"
     ]
    },
    {
     "name": "stderr",
     "output_type": "stream",
     "text": [
      "\n"
     ]
    }
   ],
   "source": [
    "#increased k to 10. Accuracy?\n",
    "training_vs_validation(20, 16, \"small\", [\"mfcc\"], \"Cosine\", 10, 1500)"
   ],
   "metadata": {
    "collapsed": false,
    "pycharm": {
     "name": "#%%\n"
    }
   }
  },
  {
   "cell_type": "code",
   "execution_count": 20,
   "outputs": [
    {
     "name": "stdout",
     "output_type": "stream",
     "text": [
      "begin training\n"
     ]
    },
    {
     "name": "stderr",
     "output_type": "stream",
     "text": [
      "  0%|          | 0/800 [00:00<?, ?it/s]"
     ]
    },
    {
     "name": "stdout",
     "output_type": "stream",
     "text": [
      "training done\n",
      "-----------------------------------------\n",
      "Genre classification for training and validation data:\n",
      "\n"
     ]
    },
    {
     "name": "stderr",
     "output_type": "stream",
     "text": [
      "100%|██████████| 800/800 [04:14<00:00,  3.15it/s]"
     ]
    },
    {
     "name": "stdout",
     "output_type": "stream",
     "text": [
      "Classification Accuracy per genre:\n",
      "\n",
      "Rock: 67%\n",
      "Folk: 73%\n",
      "International: 47%\n",
      "Hip-Hop: 63%\n",
      "Electronic: 45%\n",
      "Pop: 15%\n",
      "Experimental: 15%\n",
      "Instrumental: 27%\n",
      "-----------------------------------------\n",
      "Overall classification accuracy: 44.0%\n"
     ]
    },
    {
     "name": "stderr",
     "output_type": "stream",
     "text": [
      "\n"
     ]
    }
   ],
   "source": [
    "#increased k to 15, hash length to 20. Accuracy improved a lot.\n",
    "training_vs_validation(20, 20, \"small\", [\"mfcc\"], \"Cosine\", 15, 1500)"
   ],
   "metadata": {
    "collapsed": false,
    "pycharm": {
     "name": "#%%\n"
    }
   }
  },
  {
   "cell_type": "code",
   "execution_count": 21,
   "outputs": [
    {
     "name": "stdout",
     "output_type": "stream",
     "text": [
      "begin training\n"
     ]
    },
    {
     "name": "stderr",
     "output_type": "stream",
     "text": [
      "  0%|          | 0/800 [00:00<?, ?it/s]"
     ]
    },
    {
     "name": "stdout",
     "output_type": "stream",
     "text": [
      "training done\n",
      "-----------------------------------------\n",
      "Genre classification for training and validation data:\n",
      "\n"
     ]
    },
    {
     "name": "stderr",
     "output_type": "stream",
     "text": [
      "100%|██████████| 800/800 [04:17<00:00,  3.11it/s]"
     ]
    },
    {
     "name": "stdout",
     "output_type": "stream",
     "text": [
      "Classification Accuracy per genre:\n",
      "\n",
      "Rock: 65%\n",
      "Folk: 70%\n",
      "International: 40%\n",
      "Hip-Hop: 64%\n",
      "Electronic: 36%\n",
      "Experimental: 18%\n",
      "Pop: 17%\n",
      "Instrumental: 29%\n",
      "-----------------------------------------\n",
      "Overall classification accuracy: 42.375%\n"
     ]
    },
    {
     "name": "stderr",
     "output_type": "stream",
     "text": [
      "\n"
     ]
    }
   ],
   "source": [
    "#increased hash_count to 25. Accuracy lowered\n",
    "training_vs_validation(25, 20, \"small\", [\"mfcc\"], \"Cosine\", 15, 1500)"
   ],
   "metadata": {
    "collapsed": false,
    "pycharm": {
     "name": "#%%\n"
    }
   }
  },
  {
   "cell_type": "code",
   "execution_count": 22,
   "outputs": [
    {
     "name": "stdout",
     "output_type": "stream",
     "text": [
      "begin training\n"
     ]
    },
    {
     "name": "stderr",
     "output_type": "stream",
     "text": [
      "  0%|          | 0/800 [00:00<?, ?it/s]"
     ]
    },
    {
     "name": "stdout",
     "output_type": "stream",
     "text": [
      "training done\n",
      "-----------------------------------------\n",
      "Genre classification for training and validation data:\n",
      "\n"
     ]
    },
    {
     "name": "stderr",
     "output_type": "stream",
     "text": [
      "100%|██████████| 800/800 [04:29<00:00,  2.97it/s]"
     ]
    },
    {
     "name": "stdout",
     "output_type": "stream",
     "text": [
      "Classification Accuracy per genre:\n",
      "\n",
      "Folk: 70%\n",
      "Rock: 64%\n",
      "International: 42%\n",
      "Electronic: 44%\n",
      "Hip-Hop: 70%\n",
      "Pop: 15%\n",
      "Experimental: 20%\n",
      "Instrumental: 36%\n",
      "-----------------------------------------\n",
      "Overall classification accuracy: 45.125%\n"
     ]
    },
    {
     "name": "stderr",
     "output_type": "stream",
     "text": [
      "\n"
     ]
    }
   ],
   "source": [
    "#reverted hash_count according to best result (20). Increased hash_length to 25. Accuracy still lower that best result\n",
    "training_vs_validation(20, 25, \"small\", [\"mfcc\"], \"Cosine\", 15, 1500)"
   ],
   "metadata": {
    "collapsed": false,
    "pycharm": {
     "name": "#%%\n"
    }
   }
  },
  {
   "cell_type": "code",
   "execution_count": 23,
   "outputs": [
    {
     "name": "stdout",
     "output_type": "stream",
     "text": [
      "begin training\n"
     ]
    },
    {
     "name": "stderr",
     "output_type": "stream",
     "text": [
      "  0%|          | 0/800 [00:00<?, ?it/s]"
     ]
    },
    {
     "name": "stdout",
     "output_type": "stream",
     "text": [
      "training done\n",
      "-----------------------------------------\n",
      "Genre classification for training and validation data:\n",
      "\n"
     ]
    },
    {
     "name": "stderr",
     "output_type": "stream",
     "text": [
      "100%|██████████| 800/800 [04:34<00:00,  2.91it/s]"
     ]
    },
    {
     "name": "stdout",
     "output_type": "stream",
     "text": [
      "Classification Accuracy per genre:\n",
      "\n",
      "Rock: 68%\n",
      "Folk: 74%\n",
      "International: 47%\n",
      "Hip-Hop: 72%\n",
      "Pop: 15%\n",
      "Electronic: 46%\n",
      "Experimental: 13%\n",
      "Instrumental: 33%\n",
      "-----------------------------------------\n",
      "Overall classification accuracy: 46.0%\n"
     ]
    },
    {
     "name": "stderr",
     "output_type": "stream",
     "text": [
      "\n"
     ]
    }
   ],
   "source": [
    "# Assumption that there might be a specific correlation between k and hash_length. Increased k and well as hash_length compared to best result.\n",
    "# Got new best.\n",
    "training_vs_validation(20, 25, \"small\", [\"mfcc\"], \"Cosine\", 20, 1500)"
   ],
   "metadata": {
    "collapsed": false,
    "pycharm": {
     "name": "#%%\n"
    }
   }
  },
  {
   "cell_type": "code",
   "execution_count": 24,
   "outputs": [
    {
     "name": "stdout",
     "output_type": "stream",
     "text": [
      "begin training\n"
     ]
    },
    {
     "name": "stderr",
     "output_type": "stream",
     "text": [
      "  0%|          | 0/800 [00:00<?, ?it/s]"
     ]
    },
    {
     "name": "stdout",
     "output_type": "stream",
     "text": [
      "training done\n",
      "-----------------------------------------\n",
      "Genre classification for training and validation data:\n",
      "\n"
     ]
    },
    {
     "name": "stderr",
     "output_type": "stream",
     "text": [
      "100%|██████████| 800/800 [04:18<00:00,  3.10it/s]"
     ]
    },
    {
     "name": "stdout",
     "output_type": "stream",
     "text": [
      "Classification Accuracy per genre:\n",
      "\n",
      "Rock: 72%\n",
      "Folk: 73%\n",
      "International: 46%\n",
      "Hip-Hop: 72%\n",
      "Electronic: 45%\n",
      "Pop: 13%\n",
      "Experimental: 14%\n",
      "Instrumental: 30%\n",
      "-----------------------------------------\n",
      "Overall classification accuracy: 45.625%\n"
     ]
    },
    {
     "name": "stderr",
     "output_type": "stream",
     "text": [
      "\n"
     ]
    }
   ],
   "source": [
    "training_vs_validation(20, 30, \"small\", [\"mfcc\"], \"Cosine\", 25, 1500)"
   ],
   "metadata": {
    "collapsed": false,
    "pycharm": {
     "name": "#%%\n"
    }
   }
  }
 ],
 "metadata": {
  "kernelspec": {
   "name": "python3",
   "language": "python",
   "display_name": "Python 3"
  },
  "language_info": {
   "codemirror_mode": {
    "name": "ipython",
    "version": 2
   },
   "file_extension": ".py",
   "mimetype": "text/x-python",
   "name": "python",
   "nbconvert_exporter": "python",
   "pygments_lexer": "ipython2",
   "version": "3.8.3"
  }
 },
 "nbformat": 4,
 "nbformat_minor": 0
}