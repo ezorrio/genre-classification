{
 "cells": [
  {
   "cell_type": "code",
   "execution_count": 3,
   "metadata": {
    "collapsed": true
   },
   "outputs": [],
   "source": [
    "import pandas as pd"
   ]
  },
  {
   "cell_type": "code",
   "execution_count": 8,
   "outputs": [
    {
     "name": "stdout",
     "output_type": "stream",
     "text": [
      "(6400, 52)\n",
      "(800, 52)\n",
      "(800, 52)\n"
     ]
    }
   ],
   "source": [
    "# split data into test and train sets\n",
    "tracks = pd.read_csv(\"../metadata/tracks.csv\", index_col=0, header=[0, 1])\n",
    "tracks = tracks[tracks['set']['subset'] == 'small']\n",
    "\n",
    "train = tracks[tracks['set']['split'] == 'training']\n",
    "test = tracks[tracks['set']['split'] == 'test']\n",
    "validation = tracks[tracks['set']['split'] == 'validation']\n",
    "\n",
    "print(train.shape)\n",
    "print(test.shape)\n",
    "print(validation.shape)\n"
   ],
   "metadata": {
    "collapsed": false,
    "pycharm": {
     "name": "#%%\n"
    }
   }
  },
  {
   "cell_type": "code",
   "execution_count": 12,
   "outputs": [
    {
     "name": "stdout",
     "output_type": "stream",
     "text": [
      "{'Instrumental', 'Electronic', 'Experimental', 'Rock', 'Folk', 'Pop', 'International', 'Hip-Hop'}\n"
     ]
    }
   ],
   "source": [
    "# All genres\n",
    "print(set(train['track']['genre_top']))\n"
   ],
   "metadata": {
    "collapsed": false,
    "pycharm": {
     "name": "#%%\n"
    }
   }
  }
 ],
 "metadata": {
  "kernelspec": {
   "display_name": "Python 3",
   "language": "python",
   "name": "python3"
  },
  "language_info": {
   "codemirror_mode": {
    "name": "ipython",
    "version": 2
   },
   "file_extension": ".py",
   "mimetype": "text/x-python",
   "name": "python",
   "nbconvert_exporter": "python",
   "pygments_lexer": "ipython2",
   "version": "2.7.6"
  }
 },
 "nbformat": 4,
 "nbformat_minor": 0
}