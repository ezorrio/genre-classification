{
 "cells": [
  {
   "cell_type": "code",
   "execution_count": 46,
   "metadata": {
    "collapsed": true
   },
   "outputs": [],
   "source": [
    "import pandas as pd"
   ]
  },
  {
   "cell_type": "code",
   "execution_count": 47,
   "outputs": [],
   "source": [
    "def get_track_ids(pd):\n",
    "    return pd.index.values\n",
    "\n",
    "def intersection(list1, list2):\n",
    "    return set(list1).intersection(list2)"
   ],
   "metadata": {
    "collapsed": false,
    "pycharm": {
     "name": "#%%\n"
    }
   }
  },
  {
   "cell_type": "code",
   "execution_count": 48,
   "outputs": [
    {
     "name": "stderr",
     "output_type": "stream",
     "text": [
      "/Users/ezorrio/.conda/envs/data-mining/lib/python3.8/site-packages/IPython/core/interactiveshell.py:3146: DtypeWarning: Columns (0) have mixed types.Specify dtype option on import or set low_memory=False.\n",
      "  has_raised = await self.run_ast_nodes(code_ast.body, cell_name,\n"
     ]
    }
   ],
   "source": [
    "# Load data\n",
    "tracks = pd.read_csv(\"../metadata/tracks.csv\", index_col=0, header=[0, 1])\n",
    "features = pd.read_csv(\"../metadata/features.csv\", index_col=0, header=[0, 1])"
   ],
   "metadata": {
    "collapsed": false,
    "pycharm": {
     "name": "#%%\n"
    }
   }
  },
  {
   "cell_type": "code",
   "execution_count": 55,
   "outputs": [
    {
     "name": "stdout",
     "output_type": "stream",
     "text": [
      "['number' 'track_id' '2' ... 155318 155319 155320]\n",
      "[     2      5     10 ... 154413 154414 155066]\n",
      "(6400, 52), (6339, 518)\n",
      "(800, 52), (785, 518)\n",
      "(800, 52), (794, 518)\n"
     ]
    }
   ],
   "source": [
    "# Split data into test and train sets\n",
    "tracks = tracks[tracks['set']['subset'] == 'small']\n",
    "\n",
    "train_tracks = tracks[tracks['set']['split'] == 'training']\n",
    "test_tracks = tracks[tracks['set']['split'] == 'test']\n",
    "validation_tracks = tracks[tracks['set']['split'] == 'validation']\n",
    "\n",
    "print(features.index.values)\n",
    "print(get_track_ids(train_tracks))\n",
    "\n",
    "train_features = features[features.index.isin(get_track_ids(train_tracks))]\n",
    "test_features = features[features.index.isin(get_track_ids(test_tracks))]\n",
    "validation_features = features[features.index.isin(get_track_ids(validation_tracks))]\n",
    "\n",
    "#todo check shapes, has to be equal.\n",
    "print(f'{train_tracks.shape}, {train_features.shape}')\n",
    "print(f'{test_tracks.shape}, {test_features.shape}')\n",
    "print(f'{validation_tracks.shape}, {validation_features.shape}')\n"
   ],
   "metadata": {
    "collapsed": false,
    "pycharm": {
     "name": "#%%\n"
    }
   }
  },
  {
   "cell_type": "code",
   "execution_count": 50,
   "outputs": [
    {
     "name": "stdout",
     "output_type": "stream",
     "text": [
      "['Hip-Hop' 'Pop' 'Folk' 'Rock' 'Experimental' 'International' 'Electronic'\n",
      " 'Instrumental']\n"
     ]
    }
   ],
   "source": [
    "# All genres\n",
    "print(train_tracks['track']['genre_top'].unique())"
   ],
   "metadata": {
    "collapsed": false,
    "pycharm": {
     "name": "#%%\n"
    }
   }
  },
  {
   "cell_type": "code",
   "execution_count": 56,
   "outputs": [
    {
     "data": {
      "text/plain": "feature    chroma_cens                                                         \\\nstatistics    kurtosis kurtosis.1 kurtosis.2 kurtosis.3 kurtosis.4 kurtosis.5   \n1417          0.065994  -0.680094  -0.669625  -0.236656  -0.600461  -0.057299   \n1427         -0.039916   0.982262   0.114697  -0.261281   0.149939  -0.129240   \n1443         10.359983   1.110723   4.393135   1.577551   1.943735   0.475169   \n1482          1.120240   2.521075  -1.388268  -0.868038  -1.016607  -0.037738   \n1510         -0.784590  -0.660797  -0.869874  -0.624260   0.027500   0.548069   \n...                ...        ...        ...        ...        ...        ...   \n153955       -0.583835  -0.851545  -0.541218  -0.296888  -0.302477   0.304280   \n153956       -0.140369   0.320934   1.870380  -0.834661  -1.179138  -0.940770   \n154413       -0.214509  -1.130469   0.718534  -0.368448  -0.147830  -0.099409   \n154414       -0.487371  -0.923754  -0.283099  -0.435221  -1.137329  -0.798039   \n155066        0.044216  -0.300441  -0.217022  -0.356106  -1.085789  -1.185135   \n\nfeature                                                 ...   tonnetz  \\\nstatistics kurtosis.6 kurtosis.7 kurtosis.8 kurtosis.9  ...     std.3   \n1417        -0.448440  -0.181044  -0.135800  -0.844363  ...  0.087356   \n1427         0.641334   3.904938   0.119851  -0.197530  ...  0.079824   \n1443        -0.345988  -0.119972  -0.708067   0.180411  ...  0.054925   \n1482        -1.222496  -1.319281  -1.090184   0.691520  ...  0.082800   \n1510        -0.108645  -0.591097  -0.477322  -0.187866  ...  0.134728   \n...               ...        ...        ...        ...  ...       ...   \n153955      -0.604933   0.184075  -0.504632  -0.266321  ...  0.115746   \n153956      -0.837905  -0.503961  -1.055856  -0.605502  ...  0.147951   \n154413      -1.325709  -0.105248  -1.363881   1.229534  ...  0.156587   \n154414      -0.258168   1.004049  -0.499121   0.746973  ...  0.181294   \n155066      -0.655948  -1.517006  -0.490595  -1.267883  ...  0.189816   \n\nfeature                                zcr                                \\\nstatistics     std.4     std.5    kurtosis       max      mean    median   \n1417        0.016735  0.020539   17.890446  0.298828  0.045036  0.042480   \n1427        0.016845  0.017169    2.337646  0.158691  0.036107  0.033691   \n1443        0.017123  0.016755    4.981890  0.138672  0.032036  0.031250   \n1482        0.016605  0.020321  493.430145  0.645508  0.011081  0.008301   \n1510        0.027714  0.026330    0.399877  0.616699  0.134460  0.055664   \n...              ...       ...         ...       ...       ...       ...   \n153955      0.018906  0.021677   13.283977  0.376953  0.040100  0.030273   \n153956      0.028113  0.023784   22.379858  0.400879  0.037212  0.030762   \n154413      0.036926  0.038113   25.368595  0.323242  0.024532  0.018066   \n154414      0.026723  0.030980   21.276468  0.511230  0.046116  0.033691   \n155066      0.029439  0.025806  116.044044  0.554199  0.016058  0.009766   \n\nfeature                                    \nstatistics       min       skew       std  \n1417        0.000000   2.829784  0.021915  \n1427        0.000000   1.072598  0.012802  \n1443        0.000000   1.104205  0.008669  \n1482        0.003418  20.920746  0.025132  \n1510        0.000000   1.331330  0.151181  \n...              ...        ...       ...  \n153955      0.000000   2.913427  0.039830  \n153956      0.000000   3.800137  0.033483  \n154413      0.000977   3.736646  0.023821  \n154414      0.003418   3.997052  0.045733  \n155066      0.000000   9.688635  0.030787  \n\n[6339 rows x 518 columns]",
      "text/html": "<div>\n<style scoped>\n    .dataframe tbody tr th:only-of-type {\n        vertical-align: middle;\n    }\n\n    .dataframe tbody tr th {\n        vertical-align: top;\n    }\n\n    .dataframe thead tr th {\n        text-align: left;\n    }\n</style>\n<table border=\"1\" class=\"dataframe\">\n  <thead>\n    <tr>\n      <th>feature</th>\n      <th colspan=\"10\" halign=\"left\">chroma_cens</th>\n      <th>...</th>\n      <th colspan=\"3\" halign=\"left\">tonnetz</th>\n      <th colspan=\"7\" halign=\"left\">zcr</th>\n    </tr>\n    <tr>\n      <th>statistics</th>\n      <th>kurtosis</th>\n      <th>kurtosis.1</th>\n      <th>kurtosis.2</th>\n      <th>kurtosis.3</th>\n      <th>kurtosis.4</th>\n      <th>kurtosis.5</th>\n      <th>kurtosis.6</th>\n      <th>kurtosis.7</th>\n      <th>kurtosis.8</th>\n      <th>kurtosis.9</th>\n      <th>...</th>\n      <th>std.3</th>\n      <th>std.4</th>\n      <th>std.5</th>\n      <th>kurtosis</th>\n      <th>max</th>\n      <th>mean</th>\n      <th>median</th>\n      <th>min</th>\n      <th>skew</th>\n      <th>std</th>\n    </tr>\n  </thead>\n  <tbody>\n    <tr>\n      <th>1417</th>\n      <td>0.065994</td>\n      <td>-0.680094</td>\n      <td>-0.669625</td>\n      <td>-0.236656</td>\n      <td>-0.600461</td>\n      <td>-0.057299</td>\n      <td>-0.448440</td>\n      <td>-0.181044</td>\n      <td>-0.135800</td>\n      <td>-0.844363</td>\n      <td>...</td>\n      <td>0.087356</td>\n      <td>0.016735</td>\n      <td>0.020539</td>\n      <td>17.890446</td>\n      <td>0.298828</td>\n      <td>0.045036</td>\n      <td>0.042480</td>\n      <td>0.000000</td>\n      <td>2.829784</td>\n      <td>0.021915</td>\n    </tr>\n    <tr>\n      <th>1427</th>\n      <td>-0.039916</td>\n      <td>0.982262</td>\n      <td>0.114697</td>\n      <td>-0.261281</td>\n      <td>0.149939</td>\n      <td>-0.129240</td>\n      <td>0.641334</td>\n      <td>3.904938</td>\n      <td>0.119851</td>\n      <td>-0.197530</td>\n      <td>...</td>\n      <td>0.079824</td>\n      <td>0.016845</td>\n      <td>0.017169</td>\n      <td>2.337646</td>\n      <td>0.158691</td>\n      <td>0.036107</td>\n      <td>0.033691</td>\n      <td>0.000000</td>\n      <td>1.072598</td>\n      <td>0.012802</td>\n    </tr>\n    <tr>\n      <th>1443</th>\n      <td>10.359983</td>\n      <td>1.110723</td>\n      <td>4.393135</td>\n      <td>1.577551</td>\n      <td>1.943735</td>\n      <td>0.475169</td>\n      <td>-0.345988</td>\n      <td>-0.119972</td>\n      <td>-0.708067</td>\n      <td>0.180411</td>\n      <td>...</td>\n      <td>0.054925</td>\n      <td>0.017123</td>\n      <td>0.016755</td>\n      <td>4.981890</td>\n      <td>0.138672</td>\n      <td>0.032036</td>\n      <td>0.031250</td>\n      <td>0.000000</td>\n      <td>1.104205</td>\n      <td>0.008669</td>\n    </tr>\n    <tr>\n      <th>1482</th>\n      <td>1.120240</td>\n      <td>2.521075</td>\n      <td>-1.388268</td>\n      <td>-0.868038</td>\n      <td>-1.016607</td>\n      <td>-0.037738</td>\n      <td>-1.222496</td>\n      <td>-1.319281</td>\n      <td>-1.090184</td>\n      <td>0.691520</td>\n      <td>...</td>\n      <td>0.082800</td>\n      <td>0.016605</td>\n      <td>0.020321</td>\n      <td>493.430145</td>\n      <td>0.645508</td>\n      <td>0.011081</td>\n      <td>0.008301</td>\n      <td>0.003418</td>\n      <td>20.920746</td>\n      <td>0.025132</td>\n    </tr>\n    <tr>\n      <th>1510</th>\n      <td>-0.784590</td>\n      <td>-0.660797</td>\n      <td>-0.869874</td>\n      <td>-0.624260</td>\n      <td>0.027500</td>\n      <td>0.548069</td>\n      <td>-0.108645</td>\n      <td>-0.591097</td>\n      <td>-0.477322</td>\n      <td>-0.187866</td>\n      <td>...</td>\n      <td>0.134728</td>\n      <td>0.027714</td>\n      <td>0.026330</td>\n      <td>0.399877</td>\n      <td>0.616699</td>\n      <td>0.134460</td>\n      <td>0.055664</td>\n      <td>0.000000</td>\n      <td>1.331330</td>\n      <td>0.151181</td>\n    </tr>\n    <tr>\n      <th>...</th>\n      <td>...</td>\n      <td>...</td>\n      <td>...</td>\n      <td>...</td>\n      <td>...</td>\n      <td>...</td>\n      <td>...</td>\n      <td>...</td>\n      <td>...</td>\n      <td>...</td>\n      <td>...</td>\n      <td>...</td>\n      <td>...</td>\n      <td>...</td>\n      <td>...</td>\n      <td>...</td>\n      <td>...</td>\n      <td>...</td>\n      <td>...</td>\n      <td>...</td>\n      <td>...</td>\n    </tr>\n    <tr>\n      <th>153955</th>\n      <td>-0.583835</td>\n      <td>-0.851545</td>\n      <td>-0.541218</td>\n      <td>-0.296888</td>\n      <td>-0.302477</td>\n      <td>0.304280</td>\n      <td>-0.604933</td>\n      <td>0.184075</td>\n      <td>-0.504632</td>\n      <td>-0.266321</td>\n      <td>...</td>\n      <td>0.115746</td>\n      <td>0.018906</td>\n      <td>0.021677</td>\n      <td>13.283977</td>\n      <td>0.376953</td>\n      <td>0.040100</td>\n      <td>0.030273</td>\n      <td>0.000000</td>\n      <td>2.913427</td>\n      <td>0.039830</td>\n    </tr>\n    <tr>\n      <th>153956</th>\n      <td>-0.140369</td>\n      <td>0.320934</td>\n      <td>1.870380</td>\n      <td>-0.834661</td>\n      <td>-1.179138</td>\n      <td>-0.940770</td>\n      <td>-0.837905</td>\n      <td>-0.503961</td>\n      <td>-1.055856</td>\n      <td>-0.605502</td>\n      <td>...</td>\n      <td>0.147951</td>\n      <td>0.028113</td>\n      <td>0.023784</td>\n      <td>22.379858</td>\n      <td>0.400879</td>\n      <td>0.037212</td>\n      <td>0.030762</td>\n      <td>0.000000</td>\n      <td>3.800137</td>\n      <td>0.033483</td>\n    </tr>\n    <tr>\n      <th>154413</th>\n      <td>-0.214509</td>\n      <td>-1.130469</td>\n      <td>0.718534</td>\n      <td>-0.368448</td>\n      <td>-0.147830</td>\n      <td>-0.099409</td>\n      <td>-1.325709</td>\n      <td>-0.105248</td>\n      <td>-1.363881</td>\n      <td>1.229534</td>\n      <td>...</td>\n      <td>0.156587</td>\n      <td>0.036926</td>\n      <td>0.038113</td>\n      <td>25.368595</td>\n      <td>0.323242</td>\n      <td>0.024532</td>\n      <td>0.018066</td>\n      <td>0.000977</td>\n      <td>3.736646</td>\n      <td>0.023821</td>\n    </tr>\n    <tr>\n      <th>154414</th>\n      <td>-0.487371</td>\n      <td>-0.923754</td>\n      <td>-0.283099</td>\n      <td>-0.435221</td>\n      <td>-1.137329</td>\n      <td>-0.798039</td>\n      <td>-0.258168</td>\n      <td>1.004049</td>\n      <td>-0.499121</td>\n      <td>0.746973</td>\n      <td>...</td>\n      <td>0.181294</td>\n      <td>0.026723</td>\n      <td>0.030980</td>\n      <td>21.276468</td>\n      <td>0.511230</td>\n      <td>0.046116</td>\n      <td>0.033691</td>\n      <td>0.003418</td>\n      <td>3.997052</td>\n      <td>0.045733</td>\n    </tr>\n    <tr>\n      <th>155066</th>\n      <td>0.044216</td>\n      <td>-0.300441</td>\n      <td>-0.217022</td>\n      <td>-0.356106</td>\n      <td>-1.085789</td>\n      <td>-1.185135</td>\n      <td>-0.655948</td>\n      <td>-1.517006</td>\n      <td>-0.490595</td>\n      <td>-1.267883</td>\n      <td>...</td>\n      <td>0.189816</td>\n      <td>0.029439</td>\n      <td>0.025806</td>\n      <td>116.044044</td>\n      <td>0.554199</td>\n      <td>0.016058</td>\n      <td>0.009766</td>\n      <td>0.000000</td>\n      <td>9.688635</td>\n      <td>0.030787</td>\n    </tr>\n  </tbody>\n</table>\n<p>6339 rows × 518 columns</p>\n</div>"
     },
     "execution_count": 56,
     "metadata": {},
     "output_type": "execute_result"
    }
   ],
   "source": [
    "train_features"
   ],
   "metadata": {
    "collapsed": false,
    "pycharm": {
     "name": "#%%\n"
    }
   }
  }
 ],
 "metadata": {
  "kernelspec": {
   "display_name": "Python 3",
   "language": "python",
   "name": "python3"
  },
  "language_info": {
   "codemirror_mode": {
    "name": "ipython",
    "version": 2
   },
   "file_extension": ".py",
   "mimetype": "text/x-python",
   "name": "python",
   "nbconvert_exporter": "python",
   "pygments_lexer": "ipython2",
   "version": "2.7.6"
  }
 },
 "nbformat": 4,
 "nbformat_minor": 0
}