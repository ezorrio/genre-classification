{
 "cells": [
  {
   "cell_type": "code",
   "execution_count": 2,
   "metadata": {
    "collapsed": true
   },
   "outputs": [],
   "source": [
    "import pandas as pd"
   ]
  },
  {
   "cell_type": "code",
   "execution_count": 3,
   "outputs": [],
   "source": [
    "def get_track_ids(pd):\n",
    "    return pd.index.values\n",
    "\n",
    "def intersection(list1, list2):\n",
    "    return set(list1).intersection(list2)"
   ],
   "metadata": {
    "collapsed": false,
    "pycharm": {
     "name": "#%%\n"
    }
   }
  },
  {
   "cell_type": "code",
   "execution_count": 4,
   "outputs": [
    {
     "name": "stderr",
     "output_type": "stream",
     "text": [
      "/Users/ezorrio/.conda/envs/data-mining/lib/python3.8/site-packages/IPython/core/interactiveshell.py:3146: DtypeWarning: Columns (0) have mixed types.Specify dtype option on import or set low_memory=False.\n",
      "  has_raised = await self.run_ast_nodes(code_ast.body, cell_name,\n"
     ]
    }
   ],
   "source": [
    "# Load data\n",
    "tracks = pd.read_csv(\"../metadata/tracks.csv\", index_col=0, header=[0, 1])\n",
    "features = pd.read_csv(\"../metadata/features.csv\", index_col=0, header=[0, 1])"
   ],
   "metadata": {
    "collapsed": false,
    "pycharm": {
     "name": "#%%\n"
    }
   }
  },
  {
   "cell_type": "code",
   "execution_count": 14,
   "outputs": [
    {
     "name": "stdout",
     "output_type": "stream",
     "text": [
      "['number' 'track_id' '2' ... 155318 155319 155320]\n",
      "[]\n",
      "(0, 52), (0, 518)\n",
      "(0, 52), (0, 518)\n",
      "(0, 52), (0, 518)\n"
     ]
    }
   ],
   "source": [
    "# Split data into test and train sets\n",
    "tracks = tracks[tracks['set']['subset'] == 'large']\n",
    "\n",
    "train_tracks = tracks[tracks['set']['split'] == 'training']\n",
    "test_tracks = tracks[tracks['set']['split'] == 'test']\n",
    "validation_tracks = tracks[tracks['set']['split'] == 'validation']\n",
    "\n",
    "print(features.index.values)\n",
    "print(get_track_ids(train_tracks))\n",
    "\n",
    "train_features = features[features.index.isin(get_track_ids(train_tracks))]\n",
    "test_features = features[features.index.isin(get_track_ids(test_tracks))]\n",
    "validation_features = features[features.index.isin(get_track_ids(validation_tracks))]\n",
    "\n",
    "#todo check shapes, has to be equal.\n",
    "print(f'{train_tracks.shape}, {train_features.shape}')\n",
    "print(f'{test_tracks.shape}, {test_features.shape}')\n",
    "print(f'{validation_tracks.shape}, {validation_features.shape}')\n"
   ],
   "metadata": {
    "collapsed": false,
    "pycharm": {
     "name": "#%%\n"
    }
   }
  },
  {
   "cell_type": "code",
   "execution_count": 10,
   "outputs": [
    {
     "name": "stdout",
     "output_type": "stream",
     "text": [
      "16\n"
     ]
    }
   ],
   "source": [
    "# All genres\n",
    "print(train_tracks['track']['genre_top'].count())"
   ],
   "metadata": {
    "collapsed": false,
    "pycharm": {
     "name": "#%%\n"
    }
   }
  },
  {
   "cell_type": "code",
   "execution_count": 7,
   "outputs": [
    {
     "data": {
      "text/plain": "feature    chroma_cens                                                         \\\nstatistics    kurtosis kurtosis.1 kurtosis.2 kurtosis.3 kurtosis.4 kurtosis.5   \n1311         -1.000777  -1.054279   0.326900  -0.234172   5.788941   4.251015   \n1339         -0.472263  -0.695443  -0.397396  -0.980368   0.091919  -0.917704   \n1354          1.581007   0.011999   0.999875  -0.073512  -0.291198  -0.258575   \n1356          2.132442   0.858505   1.357067   1.793965   0.129197   0.214749   \n1358          0.034596   0.192010   0.203091   0.204551  -0.395446  -0.449443   \n...                ...        ...        ...        ...        ...        ...   \n155297       -0.007668   0.104604  -0.511487   0.857308   0.266202  -0.355186   \n155298       -0.956019  -0.961210  -0.447053  -0.689531  -0.633071  -0.430116   \n155306        0.644815  -0.879404  -1.149232  -0.655986  -0.848881  -0.672240   \n155307       -0.446937   1.235004  -0.250855  -0.612224  -1.197387  -1.118230   \n155314       -0.121936  -0.348523  -0.555810  -0.607600  -0.823013  -0.369621   \n\nfeature                                                 ...   tonnetz  \\\nstatistics kurtosis.6 kurtosis.7 kurtosis.8 kurtosis.9  ...     std.3   \n1311        -1.228073  -1.316551  -1.201993  -0.687852  ...  0.111500   \n1339        -1.183736   1.161912  -1.159443  -1.030214  ...  0.112962   \n1354         0.399998   0.821183   0.790184   3.043981  ...  0.058584   \n1356         0.249027   2.187676   0.963136   0.233296  ...  0.076745   \n1358        -0.598863  -0.612607   1.186332   0.716061  ...  0.053258   \n...               ...        ...        ...        ...  ...       ...   \n155297      -0.273640  -0.324727  -0.106368  -1.146157  ...  0.141844   \n155298      -0.031147  -0.758652  -1.093452   0.083694  ...  0.177286   \n155306       0.193149   0.069103  -0.179058  -0.713318  ...  0.125615   \n155307       0.716520  -0.878211  -0.637801   0.188355  ...  0.099894   \n155314      -0.573967   0.554874  -0.905412  -1.004594  ...  0.089492   \n\nfeature                                zcr                                \\\nstatistics     std.4     std.5    kurtosis       max      mean    median   \n1311        0.025276  0.022960   38.662235  0.458008  0.032117  0.023926   \n1339        0.023288  0.026002  123.291679  0.700684  0.039249  0.032715   \n1354        0.014047  0.014702   27.950802  0.540527  0.080158  0.077148   \n1356        0.014285  0.020844   -0.470869  0.171387  0.069307  0.064941   \n1358        0.014217  0.016792   21.365425  0.346680  0.045290  0.042480   \n...              ...       ...         ...       ...       ...       ...   \n155297      0.024080  0.031020   70.604774  0.850586  0.034100  0.020996   \n155298      0.028411  0.025631   45.445824  0.303711  0.024058  0.019531   \n155306      0.027110  0.028815   17.076239  0.247070  0.031542  0.025879   \n155307      0.019141  0.033045    6.458911  0.344727  0.069199  0.063477   \n155314      0.019214  0.018619    8.916731  0.227051  0.042894  0.039551   \n\nfeature                                    \nstatistics       min       skew       std  \n1311        0.000000   5.480039  0.035810  \n1339        0.000000  10.079244  0.042826  \n1354        0.000000   3.449666  0.035080  \n1356        0.000000   0.565537  0.035065  \n1358        0.000000   2.565828  0.026236  \n...              ...        ...       ...  \n155297      0.001953   8.380918  0.088828  \n155298      0.000000   5.786194  0.023428  \n155306      0.004883   3.179079  0.022023  \n155307      0.001953   1.996085  0.043098  \n155314      0.006348   1.989080  0.019288  \n\n[13394 rows x 518 columns]",
      "text/html": "<div>\n<style scoped>\n    .dataframe tbody tr th:only-of-type {\n        vertical-align: middle;\n    }\n\n    .dataframe tbody tr th {\n        vertical-align: top;\n    }\n\n    .dataframe thead tr th {\n        text-align: left;\n    }\n</style>\n<table border=\"1\" class=\"dataframe\">\n  <thead>\n    <tr>\n      <th>feature</th>\n      <th colspan=\"10\" halign=\"left\">chroma_cens</th>\n      <th>...</th>\n      <th colspan=\"3\" halign=\"left\">tonnetz</th>\n      <th colspan=\"7\" halign=\"left\">zcr</th>\n    </tr>\n    <tr>\n      <th>statistics</th>\n      <th>kurtosis</th>\n      <th>kurtosis.1</th>\n      <th>kurtosis.2</th>\n      <th>kurtosis.3</th>\n      <th>kurtosis.4</th>\n      <th>kurtosis.5</th>\n      <th>kurtosis.6</th>\n      <th>kurtosis.7</th>\n      <th>kurtosis.8</th>\n      <th>kurtosis.9</th>\n      <th>...</th>\n      <th>std.3</th>\n      <th>std.4</th>\n      <th>std.5</th>\n      <th>kurtosis</th>\n      <th>max</th>\n      <th>mean</th>\n      <th>median</th>\n      <th>min</th>\n      <th>skew</th>\n      <th>std</th>\n    </tr>\n  </thead>\n  <tbody>\n    <tr>\n      <th>1311</th>\n      <td>-1.000777</td>\n      <td>-1.054279</td>\n      <td>0.326900</td>\n      <td>-0.234172</td>\n      <td>5.788941</td>\n      <td>4.251015</td>\n      <td>-1.228073</td>\n      <td>-1.316551</td>\n      <td>-1.201993</td>\n      <td>-0.687852</td>\n      <td>...</td>\n      <td>0.111500</td>\n      <td>0.025276</td>\n      <td>0.022960</td>\n      <td>38.662235</td>\n      <td>0.458008</td>\n      <td>0.032117</td>\n      <td>0.023926</td>\n      <td>0.000000</td>\n      <td>5.480039</td>\n      <td>0.035810</td>\n    </tr>\n    <tr>\n      <th>1339</th>\n      <td>-0.472263</td>\n      <td>-0.695443</td>\n      <td>-0.397396</td>\n      <td>-0.980368</td>\n      <td>0.091919</td>\n      <td>-0.917704</td>\n      <td>-1.183736</td>\n      <td>1.161912</td>\n      <td>-1.159443</td>\n      <td>-1.030214</td>\n      <td>...</td>\n      <td>0.112962</td>\n      <td>0.023288</td>\n      <td>0.026002</td>\n      <td>123.291679</td>\n      <td>0.700684</td>\n      <td>0.039249</td>\n      <td>0.032715</td>\n      <td>0.000000</td>\n      <td>10.079244</td>\n      <td>0.042826</td>\n    </tr>\n    <tr>\n      <th>1354</th>\n      <td>1.581007</td>\n      <td>0.011999</td>\n      <td>0.999875</td>\n      <td>-0.073512</td>\n      <td>-0.291198</td>\n      <td>-0.258575</td>\n      <td>0.399998</td>\n      <td>0.821183</td>\n      <td>0.790184</td>\n      <td>3.043981</td>\n      <td>...</td>\n      <td>0.058584</td>\n      <td>0.014047</td>\n      <td>0.014702</td>\n      <td>27.950802</td>\n      <td>0.540527</td>\n      <td>0.080158</td>\n      <td>0.077148</td>\n      <td>0.000000</td>\n      <td>3.449666</td>\n      <td>0.035080</td>\n    </tr>\n    <tr>\n      <th>1356</th>\n      <td>2.132442</td>\n      <td>0.858505</td>\n      <td>1.357067</td>\n      <td>1.793965</td>\n      <td>0.129197</td>\n      <td>0.214749</td>\n      <td>0.249027</td>\n      <td>2.187676</td>\n      <td>0.963136</td>\n      <td>0.233296</td>\n      <td>...</td>\n      <td>0.076745</td>\n      <td>0.014285</td>\n      <td>0.020844</td>\n      <td>-0.470869</td>\n      <td>0.171387</td>\n      <td>0.069307</td>\n      <td>0.064941</td>\n      <td>0.000000</td>\n      <td>0.565537</td>\n      <td>0.035065</td>\n    </tr>\n    <tr>\n      <th>1358</th>\n      <td>0.034596</td>\n      <td>0.192010</td>\n      <td>0.203091</td>\n      <td>0.204551</td>\n      <td>-0.395446</td>\n      <td>-0.449443</td>\n      <td>-0.598863</td>\n      <td>-0.612607</td>\n      <td>1.186332</td>\n      <td>0.716061</td>\n      <td>...</td>\n      <td>0.053258</td>\n      <td>0.014217</td>\n      <td>0.016792</td>\n      <td>21.365425</td>\n      <td>0.346680</td>\n      <td>0.045290</td>\n      <td>0.042480</td>\n      <td>0.000000</td>\n      <td>2.565828</td>\n      <td>0.026236</td>\n    </tr>\n    <tr>\n      <th>...</th>\n      <td>...</td>\n      <td>...</td>\n      <td>...</td>\n      <td>...</td>\n      <td>...</td>\n      <td>...</td>\n      <td>...</td>\n      <td>...</td>\n      <td>...</td>\n      <td>...</td>\n      <td>...</td>\n      <td>...</td>\n      <td>...</td>\n      <td>...</td>\n      <td>...</td>\n      <td>...</td>\n      <td>...</td>\n      <td>...</td>\n      <td>...</td>\n      <td>...</td>\n      <td>...</td>\n    </tr>\n    <tr>\n      <th>155297</th>\n      <td>-0.007668</td>\n      <td>0.104604</td>\n      <td>-0.511487</td>\n      <td>0.857308</td>\n      <td>0.266202</td>\n      <td>-0.355186</td>\n      <td>-0.273640</td>\n      <td>-0.324727</td>\n      <td>-0.106368</td>\n      <td>-1.146157</td>\n      <td>...</td>\n      <td>0.141844</td>\n      <td>0.024080</td>\n      <td>0.031020</td>\n      <td>70.604774</td>\n      <td>0.850586</td>\n      <td>0.034100</td>\n      <td>0.020996</td>\n      <td>0.001953</td>\n      <td>8.380918</td>\n      <td>0.088828</td>\n    </tr>\n    <tr>\n      <th>155298</th>\n      <td>-0.956019</td>\n      <td>-0.961210</td>\n      <td>-0.447053</td>\n      <td>-0.689531</td>\n      <td>-0.633071</td>\n      <td>-0.430116</td>\n      <td>-0.031147</td>\n      <td>-0.758652</td>\n      <td>-1.093452</td>\n      <td>0.083694</td>\n      <td>...</td>\n      <td>0.177286</td>\n      <td>0.028411</td>\n      <td>0.025631</td>\n      <td>45.445824</td>\n      <td>0.303711</td>\n      <td>0.024058</td>\n      <td>0.019531</td>\n      <td>0.000000</td>\n      <td>5.786194</td>\n      <td>0.023428</td>\n    </tr>\n    <tr>\n      <th>155306</th>\n      <td>0.644815</td>\n      <td>-0.879404</td>\n      <td>-1.149232</td>\n      <td>-0.655986</td>\n      <td>-0.848881</td>\n      <td>-0.672240</td>\n      <td>0.193149</td>\n      <td>0.069103</td>\n      <td>-0.179058</td>\n      <td>-0.713318</td>\n      <td>...</td>\n      <td>0.125615</td>\n      <td>0.027110</td>\n      <td>0.028815</td>\n      <td>17.076239</td>\n      <td>0.247070</td>\n      <td>0.031542</td>\n      <td>0.025879</td>\n      <td>0.004883</td>\n      <td>3.179079</td>\n      <td>0.022023</td>\n    </tr>\n    <tr>\n      <th>155307</th>\n      <td>-0.446937</td>\n      <td>1.235004</td>\n      <td>-0.250855</td>\n      <td>-0.612224</td>\n      <td>-1.197387</td>\n      <td>-1.118230</td>\n      <td>0.716520</td>\n      <td>-0.878211</td>\n      <td>-0.637801</td>\n      <td>0.188355</td>\n      <td>...</td>\n      <td>0.099894</td>\n      <td>0.019141</td>\n      <td>0.033045</td>\n      <td>6.458911</td>\n      <td>0.344727</td>\n      <td>0.069199</td>\n      <td>0.063477</td>\n      <td>0.001953</td>\n      <td>1.996085</td>\n      <td>0.043098</td>\n    </tr>\n    <tr>\n      <th>155314</th>\n      <td>-0.121936</td>\n      <td>-0.348523</td>\n      <td>-0.555810</td>\n      <td>-0.607600</td>\n      <td>-0.823013</td>\n      <td>-0.369621</td>\n      <td>-0.573967</td>\n      <td>0.554874</td>\n      <td>-0.905412</td>\n      <td>-1.004594</td>\n      <td>...</td>\n      <td>0.089492</td>\n      <td>0.019214</td>\n      <td>0.018619</td>\n      <td>8.916731</td>\n      <td>0.227051</td>\n      <td>0.042894</td>\n      <td>0.039551</td>\n      <td>0.006348</td>\n      <td>1.989080</td>\n      <td>0.019288</td>\n    </tr>\n  </tbody>\n</table>\n<p>13394 rows × 518 columns</p>\n</div>"
     },
     "execution_count": 7,
     "metadata": {},
     "output_type": "execute_result"
    }
   ],
   "source": [
    "train_features"
   ],
   "metadata": {
    "collapsed": false,
    "pycharm": {
     "name": "#%%\n"
    }
   }
  }
 ],
 "metadata": {
  "kernelspec": {
   "display_name": "Python 3",
   "language": "python",
   "name": "python3"
  },
  "language_info": {
   "codemirror_mode": {
    "name": "ipython",
    "version": 2
   },
   "file_extension": ".py",
   "mimetype": "text/x-python",
   "name": "python",
   "nbconvert_exporter": "python",
   "pygments_lexer": "ipython2",
   "version": "2.7.6"
  }
 },
 "nbformat": 4,
 "nbformat_minor": 0
}